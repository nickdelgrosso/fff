{
 "cells": [
  {
   "cell_type": "code",
   "execution_count": 1,
   "id": "4ca52e4a-4785-436d-8b91-5eaf393642a3",
   "metadata": {},
   "outputs": [],
   "source": [
    "from aa.aa import fun"
   ]
  },
  {
   "cell_type": "code",
   "execution_count": 3,
   "id": "3b2ee7ca-a571-428f-bbb2-1d9967888052",
   "metadata": {},
   "outputs": [
    {
     "data": {
      "text/plain": [
       "8"
      ]
     },
     "execution_count": 3,
     "metadata": {},
     "output_type": "execute_result"
    }
   ],
   "source": [
    "fun(5)"
   ]
  },
  {
   "cell_type": "markdown",
   "id": "a13461bf-bce2-4be2-906d-598d5ab38137",
   "metadata": {},
   "source": [
    "## adaf"
   ]
  },
  {
   "cell_type": "code",
   "execution_count": 4,
   "id": "3d804235-3f6a-48ee-9a42-c240cf44a602",
   "metadata": {},
   "outputs": [],
   "source": [
    "x = 3"
   ]
  },
  {
   "cell_type": "code",
   "execution_count": null,
   "id": "d04d60d9-2c4e-4a80-a4e3-73f17cb8c8c4",
   "metadata": {},
   "outputs": [],
   "source": []
  },
  {
   "cell_type": "code",
   "execution_count": null,
   "id": "cbd1ec23-5e87-4be8-9011-242345e90458",
   "metadata": {},
   "outputs": [],
   "source": []
  },
  {
   "cell_type": "code",
   "execution_count": null,
   "id": "f3cde61e-320a-4ed4-9295-bcce5fc23863",
   "metadata": {},
   "outputs": [],
   "source": []
  }
 ],
 "metadata": {
  "kernelspec": {
   "display_name": "Python 3 (ipykernel)",
   "language": "python",
   "name": "python3"
  },
  "language_info": {
   "codemirror_mode": {
    "name": "ipython",
    "version": 3
   },
   "file_extension": ".py",
   "mimetype": "text/x-python",
   "name": "python",
   "nbconvert_exporter": "python",
   "pygments_lexer": "ipython3",
   "version": "3.12.6"
  }
 },
 "nbformat": 4,
 "nbformat_minor": 5
}
